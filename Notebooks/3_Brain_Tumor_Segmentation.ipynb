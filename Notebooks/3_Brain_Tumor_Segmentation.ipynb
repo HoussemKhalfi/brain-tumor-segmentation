{
  "cells": [
    {
      "cell_type": "markdown",
      "metadata": {
        "id": "-bK-CDRar-pg"
      },
      "source": [
        "# **Unsupervised Brain Tumor Segmentation Using K-means Clustering Algorithm**"
      ]
    },
    {
      "cell_type": "markdown",
      "metadata": {
        "id": "VFsEa5lHV2Vw"
      },
      "source": [
        "This notebook focuses on **brain tumor segmentation** by utilizing **K-Means clustering** on MRI scans. The goal is to segment the tumor into its key subregions: **edema**, **enhancing tumor**, and **necrosis**, which are critical for diagnosis, treatment planning, and analysis. Initially, we isolate the tumor region through a thresholding approach, followed by applying K-Means clustering to refine the segmentation.\n",
        "\n",
        "To assess the performance of the segmentation, we use evaluation metrics such as the **Dice coefficient**, **confusion matrix**, **precision**, and **recall**.\n",
        "\n",
        "### **Objectives of the Notebook:**\n",
        "1. **Detecting the tumor region** using a thresholding approch.\n",
        "2. **Applying K-Means clustering** to segment the tumor into its subregions.\n",
        "3. **Visualizing the segmentation results** to compare predicted segmentation with the ground truth.\n",
        "4. **Evaluating segmentation performance** using the Dice coefficient, confusion matrix, precision, and recall."
      ]
    },
    {
      "cell_type": "markdown",
      "metadata": {
        "id": "7BtHCjm5ECks"
      },
      "source": [
        "First, let's import the necessary libraries for this notebook."
      ]
    },
    {
      "cell_type": "code",
      "execution_count": 2,
      "metadata": {
        "id": "V2Ea-w3gHEPi"
      },
      "outputs": [],
      "source": [
        "import os\n",
        "from glob import glob\n",
        "import google.colab.drive as drive\n",
        "\n",
        "import nibabel as nib\n",
        "import numpy as np\n",
        "from ipywidgets import interact,fixed\n",
        "import matplotlib.pyplot as plt\n",
        "\n",
        "from skimage import color\n",
        "from sklearn.cluster import KMeans\n",
        "from sklearn.metrics import precision_score, recall_score\n",
        "\n",
        "from visualize import display_volume_slices, explore_3dimage, explore_4dimage, create_rgb_masks, explore_labeled_image\n",
        "from detection import detect_tumor_thresholding, postprocess_tumor_mask\n",
        "from metrics import create_confusion_matrix, dice_coefficient\n",
        "\n",
        "%matplotlib inline"
      ]
    },
    {
      "cell_type": "markdown",
      "metadata": {
        "id": "CfrxnjCFENUI"
      },
      "source": [
        "We mount the drive in Colab"
      ]
    },
    {
      "cell_type": "code",
      "execution_count": 3,
      "metadata": {
        "colab": {
          "base_uri": "https://localhost:8080/"
        },
        "id": "mAij1YIsPQnN",
        "outputId": "41c921f9-d4be-4cc7-8795-f957f67edded"
      },
      "outputs": [
        {
          "name": "stdout",
          "output_type": "stream",
          "text": [
            "Mounted at /content/drive\n"
          ]
        }
      ],
      "source": [
        "drive.mount('/content/drive')"
      ]
    },
    {
      "cell_type": "markdown",
      "metadata": {
        "id": "dl2CS2YjERQV"
      },
      "source": [
        "Next, we extract the contents of the tar file, which contains the dataset. The following command is used to extract the tar file:"
      ]
    },
    {
      "cell_type": "code",
      "execution_count": null,
      "metadata": {
        "colab": {
          "base_uri": "https://localhost:8080/"
        },
        "collapsed": true,
        "id": "V4-mSo21PTvq",
        "outputId": "48a849d7-c356-4821-e303-40e874a8e72d"
      },
      "outputs": [],
      "source": [
        "!tar -xvf \"/content/drive/MyDrive/Task01_BrainTumour.tar\""
      ]
    },
    {
      "cell_type": "markdown",
      "metadata": {
        "id": "ucilbgV4EiwY"
      },
      "source": [
        "## **Data Loading**\n",
        "Let's load a sample data"
      ]
    },
    {
      "cell_type": "code",
      "execution_count": 5,
      "metadata": {
        "id": "Ijrp3Hr-PXR7"
      },
      "outputs": [],
      "source": [
        "subject=\"BRATS_001\"\n",
        "im = nib.load('/content/Task01_BrainTumour/imagesTr/{}.nii.gz'.format(subject))\n",
        "mask = nib.load('/content/Task01_BrainTumour/labelsTr/{}.nii.gz'.format(subject))\n",
        "\n",
        "im_data = im.get_fdata()\n",
        "tumor_seg_data = mask.get_fdata()"
      ]
    },
    {
      "cell_type": "markdown",
      "metadata": {
        "id": "w91J5O2REw7j"
      },
      "source": [
        "We visualize the loaded MRI scan volume:"
      ]
    },
    {
      "cell_type": "code",
      "execution_count": 6,
      "metadata": {
        "colab": {
          "base_uri": "https://localhost:8080/",
          "height": 712,
          "referenced_widgets": [
            "ce1443f50b2341c1a2b62ad37ad0df87",
            "a80286ac11bd4ee583e6d3ca7e37521a",
            "9438def57cf24d428c078e4da141fa23",
            "37fd375eff244e4f8d272e0884032c45",
            "a447c3d7859e4c38b52cc01e7adb3f0e",
            "e47057b33e5545618aba74a08b6a55c2",
            "c33000813d334f99ab1d350a62c89405",
            "7d0a6f31905f4431b4636d7d5134d711",
            "e2204d0ee6b84515bf089706db8217f5",
            "6ea59aa8b53044298d6290951ba987d3",
            "c15b4513c83e4985aef125900447cdc0",
            "99d99f78238e4d76b7cf3c63af0aa676",
            "f4af483f9c214736bfa6789574468fd0"
          ]
        },
        "id": "Lx6WZ3aUoUqW",
        "outputId": "72a66206-48a7-4be9-9a2c-0e06b1780626"
      },
      "outputs": [
        {
          "data": {
            "application/vnd.jupyter.widget-view+json": {
              "model_id": "ce1443f50b2341c1a2b62ad37ad0df87",
              "version_major": 2,
              "version_minor": 0
            },
            "text/plain": [
              "interactive(children=(IntSlider(value=77, description='layer', max=154), IntSlider(value=1, description='MRI_S…"
            ]
          },
          "metadata": {},
          "output_type": "display_data"
        },
        {
          "data": {
            "text/html": [
              "<div style=\"max-width:800px; border: 1px solid var(--colab-border-color);\"><style>\n",
              "      pre.function-repr-contents {\n",
              "        overflow-x: auto;\n",
              "        padding: 8px 12px;\n",
              "        max-height: 500px;\n",
              "      }\n",
              "\n",
              "      pre.function-repr-contents.function-repr-contents-collapsed {\n",
              "        cursor: pointer;\n",
              "        max-height: 100px;\n",
              "      }\n",
              "    </style>\n",
              "    <pre style=\"white-space: initial; background:\n",
              "         var(--colab-secondary-surface-color); padding: 8px 12px;\n",
              "         border-bottom: 1px solid var(--colab-border-color);\"><b>visualize.explore_4dimage</b><br/>def explore_4dimage(layer, MRI_Seq, input_data, plane=&#x27;axial&#x27;)</pre><pre class=\"function-repr-contents function-repr-contents-collapsed\" style=\"\"><a class=\"filepath\" style=\"display:none\" href=\"#\">/content/visualize.py</a>Visualizes a single layer of the 3D MRI volume in the specified plane (axial, sagittal, or coronal).\n",
              "\n",
              "Args:\n",
              "    layer (int): The index of the slice to visualize.\n",
              "    MRI_Seq (int): The MRI modality to visualize (e.g., FLAIR, T1ce, T2).\n",
              "    input_data (numpy array): 4D MRI volume data (x, y, z, modalities).\n",
              "    plane (str): The plane of visualization (&#x27;axial&#x27;, &#x27;sagittal&#x27;, &#x27;coronal&#x27;).</pre>\n",
              "      <script>\n",
              "      if (google.colab.kernel.accessAllowed && google.colab.files && google.colab.files.view) {\n",
              "        for (const element of document.querySelectorAll('.filepath')) {\n",
              "          element.style.display = 'block'\n",
              "          element.onclick = (event) => {\n",
              "            event.preventDefault();\n",
              "            event.stopPropagation();\n",
              "            google.colab.files.view(element.textContent, 8);\n",
              "          };\n",
              "        }\n",
              "      }\n",
              "      for (const element of document.querySelectorAll('.function-repr-contents')) {\n",
              "        element.onclick = (event) => {\n",
              "          event.preventDefault();\n",
              "          event.stopPropagation();\n",
              "          element.classList.toggle('function-repr-contents-collapsed');\n",
              "        };\n",
              "      }\n",
              "      </script>\n",
              "      </div>"
            ],
            "text/plain": [
              "<function visualize.explore_4dimage(layer, MRI_Seq, input_data, plane='axial')>"
            ]
          },
          "execution_count": 6,
          "metadata": {},
          "output_type": "execute_result"
        }
      ],
      "source": [
        "interact(explore_4dimage,\n",
        "         layer=(0,im_data.shape[2]-1),\n",
        "         MRI_Seq=(0,im_data.shape[3]-1),\n",
        "         input_data=fixed(im_data),\n",
        "         plane='axial')"
      ]
    },
    {
      "cell_type": "markdown",
      "metadata": {
        "id": "hmM2ULWME-Mt"
      },
      "source": [
        "## **Brain Tumor Detection**\n",
        "We perform a modality fusion, as explained in the previous notebook."
      ]
    },
    {
      "cell_type": "code",
      "execution_count": 7,
      "metadata": {
        "id": "nciMDVvfPoiE"
      },
      "outputs": [],
      "source": [
        "fused_mod_img = im_data[:, :, :, 0] * (im_data[:, :, :, 2] + 2000) * im_data[:, :, :, 3] * (10**-6)"
      ]
    },
    {
      "cell_type": "markdown",
      "metadata": {
        "id": "toEIzDP5FOVj"
      },
      "source": [
        "We apply our detection pipeline, from thresholding to post-processing. The threshold choice is explained in the previous notebook, as we are continuing with the same sample."
      ]
    },
    {
      "cell_type": "code",
      "execution_count": 8,
      "metadata": {
        "colab": {
          "base_uri": "https://localhost:8080/",
          "height": 389
        },
        "id": "QThHLB4uQmnC",
        "outputId": "f920f01b-19b7-4706-a790-d05596a980e1"
      },
      "outputs": [
        {
          "data": {
            "image/png": "[encoded data removed]",
            "text/plain": [
              "<Figure size 1500x600 with 10 Axes>"
            ]
          },
          "metadata": {},
          "output_type": "display_data"
        }
      ],
      "source": [
        "#threshold\n",
        "t = 1300\n",
        "# Detect tumor region\n",
        "tumor_mask = detect_tumor_thresholding(fused_mod_img, t)\n",
        "# Post-process the resulting mask\n",
        "processed_tumor_mask = postprocess_tumor_mask(tumor_mask)\n",
        "# Visulize the processed mask\n",
        "display_volume_slices(processed_tumor_mask)"
      ]
    },
    {
      "cell_type": "markdown",
      "metadata": {
        "id": "njS55A3wHRcq"
      },
      "source": [
        "## **Brain Tumor Segmentation**\n",
        "\n",
        "In this section, we will focus on segmenting the detected tumor region into its core components: **edema**, **enhancing tumor**, and **necrosis** using clustering techniques, specifically **K-Means clustering**. We are not targeting the entire brain but rather concentrating on the already identified tumor area.\n",
        "\n",
        "This localized segmentation approach allows us to finely classify the tumor into its relevant subregions, which is crucial for further analysis and treatment planning."
      ]
    },
    {
      "cell_type": "markdown",
      "metadata": {
        "id": "gf7Q1lhe5xYS"
      },
      "source": [
        "### **Select the Modalities for K-Means Clustering**\n",
        "\n",
        "We will select the MRI modalities that provide the most useful information for tumor segmentation. These modalities will be used as input features for training the K-Means clustering model. Each modality contributes distinct tissue contrasts that aid in differentiating tumor subregions."
      ]
    },
    {
      "cell_type": "markdown",
      "metadata": {
        "id": "25zu4b7I_dGX"
      },
      "source": [
        "Let's check the ground truth mask. A detailed interpretation of the ground truth can be found in the first notebook"
      ]
    },
    {
      "cell_type": "code",
      "execution_count": 9,
      "metadata": {
        "colab": {
          "base_uri": "https://localhost:8080/",
          "height": 680,
          "referenced_widgets": [
            "cd77281b393a4afbbbf86389ff4646fe",
            "214980118eb746a4a38b33fd2ffc2a5f",
            "3bacc2a9390e4e218a987ba81263fe99",
            "c6615991c924437b8332d0466a6acb24",
            "26d4e8f7c7334c51957896c1ae8281bb",
            "edd3c91f356e421aabd61c7985005706",
            "863ede60208b46368a8970dbd5ab409d",
            "6b2029f68aff4f33a3696be4f6d8215a",
            "5c67892d22574faf8d7b9b27cdb6bd45",
            "72e8fb3a67ed45109d3c3997257641fd"
          ]
        },
        "id": "QmUlOFP1R19C",
        "outputId": "bdb2e966-a70c-449c-e032-c6e8b5dc2c89"
      },
      "outputs": [
        {
          "data": {
            "application/vnd.jupyter.widget-view+json": {
              "model_id": "cd77281b393a4afbbbf86389ff4646fe",
              "version_major": 2,
              "version_minor": 0
            },
            "text/plain": [
              "interactive(children=(IntSlider(value=77, description='layer', max=154), Text(value='axial', description='plan…"
            ]
          },
          "metadata": {},
          "output_type": "display_data"
        },
        {
          "data": {
            "text/html": [
              "<div style=\"max-width:800px; border: 1px solid var(--colab-border-color);\"><style>\n",
              "      pre.function-repr-contents {\n",
              "        overflow-x: auto;\n",
              "        padding: 8px 12px;\n",
              "        max-height: 500px;\n",
              "      }\n",
              "\n",
              "      pre.function-repr-contents.function-repr-contents-collapsed {\n",
              "        cursor: pointer;\n",
              "        max-height: 100px;\n",
              "      }\n",
              "    </style>\n",
              "    <pre style=\"white-space: initial; background:\n",
              "         var(--colab-secondary-surface-color); padding: 8px 12px;\n",
              "         border-bottom: 1px solid var(--colab-border-color);\"><b>visualize.explore_3dimage</b><br/>def explore_3dimage(layer, input_data, plane=&#x27;axial&#x27;)</pre><pre class=\"function-repr-contents function-repr-contents-collapsed\" style=\"\"><a class=\"filepath\" style=\"display:none\" href=\"#\">/content/visualize.py</a>Visualizes a single layer of the 3D MRI volume in the specified plane (axial, sagittal, or coronal).\n",
              "\n",
              "Args:\n",
              "    layer (int): The index of the slice to visualize.\n",
              "    input_data (numpy array): 3D MRI volume data (x, y, z).\n",
              "    plane (str): The plane of visualization (&#x27;axial&#x27;, &#x27;sagittal&#x27;, &#x27;coronal&#x27;).</pre>\n",
              "      <script>\n",
              "      if (google.colab.kernel.accessAllowed && google.colab.files && google.colab.files.view) {\n",
              "        for (const element of document.querySelectorAll('.filepath')) {\n",
              "          element.style.display = 'block'\n",
              "          element.onclick = (event) => {\n",
              "            event.preventDefault();\n",
              "            event.stopPropagation();\n",
              "            google.colab.files.view(element.textContent, 65);\n",
              "          };\n",
              "        }\n",
              "      }\n",
              "      for (const element of document.querySelectorAll('.function-repr-contents')) {\n",
              "        element.onclick = (event) => {\n",
              "          event.preventDefault();\n",
              "          event.stopPropagation();\n",
              "          element.classList.toggle('function-repr-contents-collapsed');\n",
              "        };\n",
              "      }\n",
              "      </script>\n",
              "      </div>"
            ],
            "text/plain": [
              "<function visualize.explore_3dimage(layer, input_data, plane='axial')>"
            ]
          },
          "execution_count": 9,
          "metadata": {},
          "output_type": "execute_result"
        }
      ],
      "source": [
        "interact(explore_3dimage,\n",
        "         layer=(0,tumor_seg_data.shape[2]-1),\n",
        "         input_data=fixed(tumor_seg_data),\n",
        "         plane='axial')"
      ]
    },
    {
      "cell_type": "markdown",
      "metadata": {
        "id": "h1t9gjtkDKRT"
      },
      "source": [
        "Let’s examine the different MRI modalities and how the various tumor subregions are represented:"
      ]
    },
    {
      "cell_type": "code",
      "execution_count": 10,
      "metadata": {
        "colab": {
          "base_uri": "https://localhost:8080/",
          "height": 202
        },
        "id": "xZXclGN89ab1",
        "outputId": "2370c40c-5f91-4ce6-dcc1-0a3c2a6c32c5"
      },
      "outputs": [
        {
          "data": {
            "image/png": "[encoded data removed]",
            "text/plain": [
              "<Figure size 2000x2000 with 5 Axes>"
            ]
          },
          "metadata": {},
          "output_type": "display_data"
        }
      ],
      "source": [
        "# Plot the 70th slice of the 4 RMI modalities and the segmentation mask\n",
        "slice_nb = 70\n",
        "\n",
        "fig, axs = plt.subplots(1, 5, figsize=(20,20))\n",
        "axs[0].imshow(im_data[:,:,slice_nb,0], cmap=\"gray\")\n",
        "axs[0].set_title('FLAIR')\n",
        "axs[0].axis('off')\n",
        "\n",
        "axs[1].imshow(im_data[:,:,slice_nb,1], cmap=\"gray\")\n",
        "axs[1].set_title('T1')\n",
        "axs[1].axis('off')\n",
        "\n",
        "axs[2].imshow(im_data[:,:,slice_nb,2], cmap=\"gray\")\n",
        "axs[2].set_title('T1-Gd')\n",
        "axs[2].axis('off')\n",
        "\n",
        "axs[3].imshow(im_data[:,:,slice_nb,3], cmap=\"gray\")\n",
        "axs[3].set_title('T2')\n",
        "axs[3].axis('off')\n",
        "\n",
        "axs[4].imshow(fused_mod_img[:,:,slice_nb], cmap=\"gray\")\n",
        "axs[4].set_title('Fused FLAIR T1CE T2 Modalities ')\n",
        "axs[4].axis('off')\n",
        "plt.show()"
      ]
    },
    {
      "cell_type": "markdown",
      "metadata": {
        "id": "ZxciXlNSF7-6"
      },
      "source": [
        "We apply the generated mask to the T1ce and T2-weighted images because these modalities offer complementary information for tumor segmentation:\n",
        "\n",
        "- **T1ce**: Clearly highlights the **enhancing tumor** region.\n",
        "- **T2**: Accurately depicts the **necrosis** within the tumor.\n",
        "\n",
        "The **edema** region is captured from the processed tumor mask, as it is not well represented in these modalities. Although the **FLAIR** modality is effective in showing edema, including FLAIR in K-Means clustering with T1ce and T2 resulted in less accurate segmentation. This is due to the FLAIR's inability to clearly distinguish between **enhancing tumor** and **necrosis**, as these regions appear interconnected in FLAIR, leading to confusion in the clustering process. Therefore, we exclude FLAIR for more precise segmentation of tumor subregions."
      ]
    },
    {
      "cell_type": "code",
      "execution_count": 11,
      "metadata": {
        "id": "XSgtyKNcRktj"
      },
      "outputs": [],
      "source": [
        "# Extract tumor data and apply the mask\n",
        "tumor_data = im_data[:, :, :, 2:4] * processed_tumor_mask[..., np.newaxis]"
      ]
    },
    {
      "cell_type": "markdown",
      "metadata": {
        "id": "EHn5zto66ieT"
      },
      "source": [
        "### **Train the K-Means Model**\n",
        "\n",
        "Using the selected modalities, we will train a K-Means model to cluster the tumor region into three main classes corresponding to the edema, enhancing tumor, and necrosis.\n",
        "\n",
        "K-Means is an unsupervised learning method commonly used for segmentation tasks in medical imaging, as it groups pixels based on their intensity similarities.\n",
        "\n"
      ]
    },
    {
      "cell_type": "code",
      "execution_count": 12,
      "metadata": {
        "colab": {
          "base_uri": "https://localhost:8080/",
          "height": 680,
          "referenced_widgets": [
            "85d8a327d2bd4558b85dd6397fee84e2",
            "6ba89163ef0642fe9eb9195ab0629c9b",
            "841e8c75e02a49848e9d22028f66f529",
            "e26e2521290e47b5a44909989c716b63",
            "848feb860c724fa3802f9cfc602307d6",
            "93d9410b458049c0978f7301ee567381",
            "c3055afc537f4bffa1f57fba592a9967",
            "08c555a11fa04296b5db8bc6c4607bbc",
            "ad3ad4c12e314fb0b52177cc9c582109",
            "4fc5f19195d44bdfb15b597b5fbfe5b2"
          ]
        },
        "id": "XyniXLYJErlm",
        "outputId": "ef261303-9eed-48cc-b9eb-f3fe0b69b709"
      },
      "outputs": [
        {
          "data": {
            "application/vnd.jupyter.widget-view+json": {
              "model_id": "85d8a327d2bd4558b85dd6397fee84e2",
              "version_major": 2,
              "version_minor": 0
            },
            "text/plain": [
              "interactive(children=(IntSlider(value=77, description='layer', max=154), Text(value='axial', description='plan…"
            ]
          },
          "metadata": {},
          "output_type": "display_data"
        },
        {
          "data": {
            "text/html": [
              "<div style=\"max-width:800px; border: 1px solid var(--colab-border-color);\"><style>\n",
              "      pre.function-repr-contents {\n",
              "        overflow-x: auto;\n",
              "        padding: 8px 12px;\n",
              "        max-height: 500px;\n",
              "      }\n",
              "\n",
              "      pre.function-repr-contents.function-repr-contents-collapsed {\n",
              "        cursor: pointer;\n",
              "        max-height: 100px;\n",
              "      }\n",
              "    </style>\n",
              "    <pre style=\"white-space: initial; background:\n",
              "         var(--colab-secondary-surface-color); padding: 8px 12px;\n",
              "         border-bottom: 1px solid var(--colab-border-color);\"><b>visualize.explore_3dimage</b><br/>def explore_3dimage(layer, input_data, plane=&#x27;axial&#x27;)</pre><pre class=\"function-repr-contents function-repr-contents-collapsed\" style=\"\"><a class=\"filepath\" style=\"display:none\" href=\"#\">/content/visualize.py</a>Visualizes a single layer of the 3D MRI volume in the specified plane (axial, sagittal, or coronal).\n",
              "\n",
              "Args:\n",
              "    layer (int): The index of the slice to visualize.\n",
              "    input_data (numpy array): 3D MRI volume data (x, y, z).\n",
              "    plane (str): The plane of visualization (&#x27;axial&#x27;, &#x27;sagittal&#x27;, &#x27;coronal&#x27;).</pre>\n",
              "      <script>\n",
              "      if (google.colab.kernel.accessAllowed && google.colab.files && google.colab.files.view) {\n",
              "        for (const element of document.querySelectorAll('.filepath')) {\n",
              "          element.style.display = 'block'\n",
              "          element.onclick = (event) => {\n",
              "            event.preventDefault();\n",
              "            event.stopPropagation();\n",
              "            google.colab.files.view(element.textContent, 65);\n",
              "          };\n",
              "        }\n",
              "      }\n",
              "      for (const element of document.querySelectorAll('.function-repr-contents')) {\n",
              "        element.onclick = (event) => {\n",
              "          event.preventDefault();\n",
              "          event.stopPropagation();\n",
              "          element.classList.toggle('function-repr-contents-collapsed');\n",
              "        };\n",
              "      }\n",
              "      </script>\n",
              "      </div>"
            ],
            "text/plain": [
              "<function visualize.explore_3dimage(layer, input_data, plane='axial')>"
            ]
          },
          "execution_count": 12,
          "metadata": {},
          "output_type": "execute_result"
        }
      ],
      "source": [
        "# Flatten the tumor data for clustering\n",
        "X = tumor_data.reshape(-1, tumor_data.shape[-1])\n",
        "\n",
        "# Define initial centroids for KMeans\n",
        "initial_centroids = np.array([[0, 0], [500, 500], [1000, 1000], [1750, 1750]])\n",
        "\n",
        "# Fit KMeans and predict labels\n",
        "kmeans = KMeans(n_clusters=4, init=initial_centroids, n_init=1, random_state=0)\n",
        "labels = kmeans.fit_predict(X)\n",
        "\n",
        "# Reshape the predicted labels back to the original tumor data shape\n",
        "tumor_seg_predict = labels.reshape(tumor_data.shape[:-1])\n",
        "\n",
        "# Display the predicted tumor mask\n",
        "interact(explore_3dimage,\n",
        "         layer=(0,tumor_seg_predict.shape[2]-1),\n",
        "         input_data=fixed(tumor_seg_predict),\n",
        "         plane='axial')"
      ]
    },
    {
      "cell_type": "markdown",
      "metadata": {
        "id": "3GjPaOTA9Iph"
      },
      "source": [
        "**Note**: By applying K-Means clustering to this smaller region, we aim to segment the tumor into its main components with greater accuracy and computational efficiency."
      ]
    },
    {
      "cell_type": "code",
      "execution_count": null,
      "metadata": {
        "id": "m5es2lWARfHp"
      },
      "outputs": [],
      "source": [
        "#save the tumor segmentation prediction\n",
        "tumor_segmentation_prediction = nib.Nifti1Image(tumor_seg_predict, im.affine, im.header)\n",
        "nib.save(tumor_segmentation_prediction,'/content/Tumor_Segmentation_Prediction_{}.nii.gz'.format(subject))"
      ]
    },
    {
      "cell_type": "markdown",
      "metadata": {
        "id": "FTx-Ai-i7xTA"
      },
      "source": [
        "### **Visualize the Segmentation Results**\n",
        "\n",
        "We will implement a function to interactively visualize the predicted segmentation overlaid on the brain MRI scan for qualitative evaluation. This function will blend the ground truth segmentation and the predicted segmentation on top of the MRI slices to provide an intuitive way of assessing how well the model has segmented the tumor components."
      ]
    },
    {
      "cell_type": "code",
      "execution_count": 13,
      "metadata": {
        "colab": {
          "base_uri": "https://localhost:8080/",
          "height": 672,
          "referenced_widgets": [
            "0bbedc21c44c496a9348fdab4a57d9bc",
            "d994bacb226c4fcfb6f070ea45716c79",
            "bf24c0ce680d4111944975d1fa8a539c",
            "01edf1972e6a4bab9a01119657d25dca",
            "e41ad41b7b314a35b3b99966305db028",
            "7cfe560c496e479fb04c53dcfba8e4b8",
            "cb22f221f9f14453b96e6a47bc26c30f",
            "d0947f497412475fa1c7b7960475d0f6",
            "51635cd5ef984c1fb2456259613cc6c6",
            "c0f96b494da847b0890beea8d9c95ff9"
          ]
        },
        "id": "cFrCofNlSAy7",
        "outputId": "46097148-f065-4cdc-9224-a1ff3ff60278"
      },
      "outputs": [
        {
          "data": {
            "application/vnd.jupyter.widget-view+json": {
              "model_id": "0bbedc21c44c496a9348fdab4a57d9bc",
              "version_major": 2,
              "version_minor": 0
            },
            "text/plain": [
              "interactive(children=(IntSlider(value=77, description='layer', max=154), IntSlider(value=1, description='MRI_S…"
            ]
          },
          "metadata": {},
          "output_type": "display_data"
        },
        {
          "data": {
            "text/html": [
              "<div style=\"max-width:800px; border: 1px solid var(--colab-border-color);\"><style>\n",
              "      pre.function-repr-contents {\n",
              "        overflow-x: auto;\n",
              "        padding: 8px 12px;\n",
              "        max-height: 500px;\n",
              "      }\n",
              "\n",
              "      pre.function-repr-contents.function-repr-contents-collapsed {\n",
              "        cursor: pointer;\n",
              "        max-height: 100px;\n",
              "      }\n",
              "    </style>\n",
              "    <pre style=\"white-space: initial; background:\n",
              "         var(--colab-secondary-surface-color); padding: 8px 12px;\n",
              "         border-bottom: 1px solid var(--colab-border-color);\"><b>visualize.explore_labeled_image</b><br/>def explore_labeled_image(layer, MRI_Seq, input_data, predict_seg, gt_seg)</pre><pre class=\"function-repr-contents function-repr-contents-collapsed\" style=\"\"><a class=\"filepath\" style=\"display:none\" href=\"#\">/content/visualize.py</a>&lt;no docstring&gt;</pre>\n",
              "      <script>\n",
              "      if (google.colab.kernel.accessAllowed && google.colab.files && google.colab.files.view) {\n",
              "        for (const element of document.querySelectorAll('.filepath')) {\n",
              "          element.style.display = 'block'\n",
              "          element.onclick = (event) => {\n",
              "            event.preventDefault();\n",
              "            event.stopPropagation();\n",
              "            google.colab.files.view(element.textContent, 156);\n",
              "          };\n",
              "        }\n",
              "      }\n",
              "      for (const element of document.querySelectorAll('.function-repr-contents')) {\n",
              "        element.onclick = (event) => {\n",
              "          event.preventDefault();\n",
              "          event.stopPropagation();\n",
              "          element.classList.toggle('function-repr-contents-collapsed');\n",
              "        };\n",
              "      }\n",
              "      </script>\n",
              "      </div>"
            ],
            "text/plain": [
              "<function visualize.explore_labeled_image(layer, MRI_Seq, input_data, predict_seg, gt_seg)>"
            ]
          },
          "execution_count": 13,
          "metadata": {},
          "output_type": "execute_result"
        }
      ],
      "source": [
        "# Define colors for different tumor regions\n",
        "colors = {\n",
        "    \"red\": [1, 0, 0],    # Edema/Invation (red)\n",
        "    \"blue\": [0, 0, 1],   # Necrosis (blue)\n",
        "    \"green\": [0, 1, 0]   # Enhancing Tumor (green)\n",
        "}\n",
        "\n",
        "predict_mask_edema = create_rgb_masks(tumor_seg_predict, 1)\n",
        "predict_mask_necrosis = create_rgb_masks(tumor_seg_predict, 2)\n",
        "predict_mask_enhancing_tumor = create_rgb_masks(tumor_seg_predict, 3)\n",
        "\n",
        "gt_mask_edema = create_rgb_masks(tumor_seg_data, 1)\n",
        "gt_mask_necrosis = create_rgb_masks(tumor_seg_data, 2)\n",
        "gt_mask_enhancing_tumor = create_rgb_masks(tumor_seg_data, 3)\n",
        "\n",
        "# Create combined RGB masks for predicted and ground truth tumor regions\n",
        "tumor_mask_predict_rgb = (colors['red'] * predict_mask_edema +\n",
        "                          colors['blue'] * predict_mask_necrosis +\n",
        "                          colors['green'] * predict_mask_enhancing_tumor)\n",
        "\n",
        "tumor_mask_data_rgb = (colors['red'] * gt_mask_edema +\n",
        "                       colors['blue'] * gt_mask_necrosis +\n",
        "                       colors['green'] * gt_mask_enhancing_tumor)\n",
        "\n",
        "interact(explore_labeled_image,\n",
        "         layer=(0,im_data.shape[2]-1),\n",
        "         MRI_Seq=(0,im_data.shape[3]-1),\n",
        "         input_data=fixed(im_data),\n",
        "         predict_seg=fixed(tumor_mask_data_rgb),\n",
        "         gt_seg=fixed(tumor_mask_predict_rgb))"
      ]
    },
    {
      "cell_type": "markdown",
      "metadata": {
        "id": "b5V2JiYeABpV"
      },
      "source": [
        "### **Quantitative Evaluation**\n",
        "\n",
        "#### **Dice Similarity Coefficient**\n",
        "\n",
        "We will compute the Dice coefficient for each segmented class to quantify the overlap between the predicted and ground truth segmentations.\n",
        "\n",
        "The **Dice Coefficient** (also called **Dice Similarity Index** and **Dice Similarity Coefficient**) is a statistical measure used to gauge the similarity between two sets, particularly in the context of image segmentation. It compares the overlap between a predicted segmentation and the ground truth.\n",
        "\n",
        "The Dice coefficient is defined as:\n",
        "\n",
        "$$\n",
        "\\text{DSC} = \\frac{2 \\times |A \\cap B|}{|A| + |B|} = \\frac{2 \\times |\\text{Intersection}|}{|\\text{Predicted mask}| + |\\text{True mask}|}\n",
        "$$\n",
        "\n",
        "Where:\n",
        "- $A$ is the set of predicted pixels (or voxels in 3D).\n",
        "- $B$ is the set of ground truth pixels (or voxels).\n",
        "- $|A \\cap B|$ represents the number of overlapping pixels between the predicted and ground truth segmentations.\n",
        "\n",
        "The Dice score ranges from **0** (no overlap) to **1** (perfect overlap). It is particularly useful in medical imaging for comparing the predicted and actual regions of interest, such as tumor segmentation."
      ]
    },
    {
      "cell_type": "markdown",
      "metadata": {
        "id": "ZyxveXgEYJFr"
      },
      "source": [
        "##### **Dice Similarity Coefficient Measure for The Background Region**"
      ]
    },
    {
      "cell_type": "code",
      "execution_count": 14,
      "metadata": {
        "colab": {
          "base_uri": "https://localhost:8080/"
        },
        "id": "OAs1GSB7cizM",
        "outputId": "7c711a0c-7165-4274-f987-b7b47c54ed64"
      },
      "outputs": [
        {
          "name": "stdout",
          "output_type": "stream",
          "text": [
            "DSC for the Background Region: 0.9989\n"
          ]
        }
      ],
      "source": [
        "# Generate binary masks for the background (where the tumor mask is 0)\n",
        "background_true = (tumor_seg_data == 0).astype(int)\n",
        "background_pred = (tumor_seg_predict == 0).astype(int)\n",
        "\n",
        "# Calculate the Dice coefficient for the background\n",
        "bg_dice = dice_coefficient(background_pred, background_true)\n",
        "\n",
        "# Print the result\n",
        "print(f\"DSC for the Background Region: {bg_dice:.4f}\")"
      ]
    },
    {
      "cell_type": "markdown",
      "metadata": {
        "id": "bUC2n4DKZsrr"
      },
      "source": [
        "##### **Dice Similarity Coefficient Measure for The Edema Region**"
      ]
    },
    {
      "cell_type": "code",
      "execution_count": 15,
      "metadata": {
        "colab": {
          "base_uri": "https://localhost:8080/"
        },
        "id": "UNOYzvYPBTMj",
        "outputId": "d22e7f9a-878b-483a-be1b-d87f8d9acc61"
      },
      "outputs": [
        {
          "name": "stdout",
          "output_type": "stream",
          "text": [
            "DSC for the Edema Region: 0.7898\n"
          ]
        }
      ],
      "source": [
        "# Generate binary masks for the edema region (where the tumor mask is 1)\n",
        "edema_true = (tumor_seg_data == 1).astype(int)\n",
        "edema_pred = (tumor_seg_predict == 1).astype(int)\n",
        "\n",
        "# Calculate the Dice coefficient for the edema region\n",
        "edema_dice = dice_coefficient(edema_pred, edema_true)\n",
        "\n",
        "# Print the result\n",
        "print(f\"DSC for the Edema Region: {edema_dice:.4f}\")"
      ]
    },
    {
      "cell_type": "markdown",
      "metadata": {
        "id": "nhxgdlSCZw4L"
      },
      "source": [
        "##### **Dice Similarity Coefficient Measure for The Necrosis Region**"
      ]
    },
    {
      "cell_type": "code",
      "execution_count": 16,
      "metadata": {
        "colab": {
          "base_uri": "https://localhost:8080/"
        },
        "id": "_znW9UcnBYdN",
        "outputId": "f9ebbc17-3236-4a5f-f2e7-0588111bf8a4"
      },
      "outputs": [
        {
          "name": "stdout",
          "output_type": "stream",
          "text": [
            "DSC for the Necrosis Region: 0.8601\n"
          ]
        }
      ],
      "source": [
        "# Generate binary masks for the necrosis region (where the tumor mask is 2)\n",
        "necrosis_true = (tumor_seg_data == 2).astype(int)\n",
        "necrosis_pred = (tumor_seg_predict == 2).astype(int)\n",
        "\n",
        "# Calculate the Dice coefficient for the necrosis region\n",
        "necrosis_dice = dice_coefficient(necrosis_pred, necrosis_true)\n",
        "\n",
        "# Print the result\n",
        "print(f\"DSC for the Necrosis Region: {necrosis_dice:.4f}\")"
      ]
    },
    {
      "cell_type": "markdown",
      "metadata": {
        "id": "O-UB7SCSZ2Z6"
      },
      "source": [
        "##### **Dice Similarity Coefficient Measure for Enhancing Tumor Region**"
      ]
    },
    {
      "cell_type": "code",
      "execution_count": 17,
      "metadata": {
        "colab": {
          "base_uri": "https://localhost:8080/"
        },
        "id": "C_yLm89xBd9u",
        "outputId": "f65fe69d-06b3-4b39-9dee-81e265b3740c"
      },
      "outputs": [
        {
          "name": "stdout",
          "output_type": "stream",
          "text": [
            "DSC for the Enhancing Tumor Region: 0.8242\n"
          ]
        }
      ],
      "source": [
        "# Generate binary masks for the enhancing tumor region (where the tumor mask is 3)\n",
        "enhancing_tumor_true = (tumor_seg_data == 3).astype(int)\n",
        "enhancing_tumor_pred = (tumor_seg_predict == 3).astype(int)\n",
        "\n",
        "# Calculate the Dice coefficient for the enhancing tumor region\n",
        "enhancing_tumor_dice = dice_coefficient(enhancing_tumor_pred, enhancing_tumor_true)\n",
        "\n",
        "# Print the result\n",
        "print(f\"DSC for the Enhancing Tumor Region: {enhancing_tumor_dice:.4f}\")"
      ]
    },
    {
      "cell_type": "markdown",
      "metadata": {
        "id": "IdNnpIobANr6"
      },
      "source": [
        "#### **Confusion Matrix**\n",
        "\n",
        "To further assess the model’s performance, we will compute a confusion matrix that compares the predicted segmentation with the ground truth on a per-class basis. This will provide insight into the number of correctly and incorrectly classified pixels for each class.\n",
        "\n",
        "The **Confusion Matrix** is a table used to evaluate the performance of a classification algorithm by comparing the predicted and actual class labels. In the context of segmentation, each element of the matrix counts the number of pixels (or voxels) classified into different categories.\n",
        "\n",
        "A confusion matrix for binary classification looks like this:\n",
        "\n",
        "|                  | **Predicted Positive** | **Predicted Negative** |\n",
        "|------------------|------------------------|------------------------|\n",
        "| **True Positive** | True Positive (TP)     | False Negative (FN)    |\n",
        "| **True Negative** | False Positive (FP)    | True Negative (TN)     |\n",
        "\n",
        "Where:\n",
        "- **True Positive (TP)**: Correctly predicted positive pixels.\n",
        "- **False Positive (FP)**: Pixels incorrectly predicted as positive.\n",
        "- **True Negative (TN)**: Correctly predicted negative pixels.\n",
        "- **False Negative (FN)**: Pixels incorrectly predicted as negative.\n",
        "\n",
        "The confusion matrix helps compute important metrics such as **precision** and **recall**, which provide insight into the segmentation model's performance.\n",
        "\n",
        "In multiclass segmentation, the confusion matrix becomes more complex, containing rows and columns for each class (background, edema, enhancing tumor, necrosis)."
      ]
    },
    {
      "cell_type": "code",
      "execution_count": 18,
      "metadata": {
        "colab": {
          "base_uri": "https://localhost:8080/",
          "height": 487
        },
        "id": "Acri_n76VlnN",
        "outputId": "38ff2be0-e938-4235-a574-ace5adbf8443"
      },
      "outputs": [
        {
          "data": {
            "image/png": "[encoded data removed]",
            "text/plain": [
              "<Figure size 640x480 with 2 Axes>"
            ]
          },
          "metadata": {},
          "output_type": "display_data"
        }
      ],
      "source": [
        "class_names = ['Background', 'Edema', 'Necrosis', 'Enhancing Tumor'] # Names of your classes\n",
        "\n",
        "# Flatten the arrays to ensure they are 1D\n",
        "y_true = tumor_seg_data.flatten()\n",
        "y_pred = tumor_seg_predict.flatten()\n",
        "\n",
        "# Create and display the confusion matrix\n",
        "_, cm= create_confusion_matrix(y_true , y_pred ,\n",
        "                               classes=class_names, normalize=True,\n",
        "                               title='Normalized Confusion Matrix')"
      ]
    },
    {
      "cell_type": "markdown",
      "metadata": {
        "id": "9vwTWnORVbsj"
      },
      "source": [
        "#### **Precision & Recall**\n",
        "\n",
        "**Precision** and **recall** are key metrics for evaluating the accuracy of the segmentation for each tumor subregion.\n",
        "\n",
        "##### **Precision:**\n",
        "Precision measures the proportion of true positive (correctly identified) pixels for a particular class relative to all pixels that were predicted to belong to that class (both true positives and false positives). In other words, it tells us how many of the pixels that were predicted to belong to a specific class were actually correct.\n",
        "\n",
        "For a specific class $c$ :\n",
        "$$\n",
        "\\text{Precision}_c = \\frac{\\text{True Positives}_c}{\\text{True Positives}_c + \\text{False Positives}_c}\n",
        "$$\n",
        "\n",
        "\n",
        "- **High precision** means that most of the pixels predicted to be from class $c$ are indeed from class $c$ (few false positives).\n",
        "- **Low precision** indicates that many of the pixels predicted as class $c$ were actually misclassified.\n",
        "\n",
        "##### **Recall:**\n",
        "Recall (or sensitivity) measures the proportion of true positive pixels for a class relative to all actual pixels belonging to that class (both true positives and false negatives). It reflects how well the model is able to identify all the pixels of a given tumor subregion.\n",
        "\n",
        "For a specific class $c$ :\n",
        "$$\n",
        "\\text{Recall}_c = \\frac{\\text{True Positives}_c}{\\text{True Positives}_c + \\text{False Negatives}_c}\n",
        "$$\n",
        "\n",
        "- **High recall** means that the model successfully identifies most of the class $c$ pixels in the ground truth (few false negatives).\n",
        "- **Low recall** indicates that the model misses many pixels that should have been classified as class $c$.\n",
        "\n",
        "Since brain tumor segmentation involves multiple classes, precision and recall need to be computed for each class. we can calculate the precision and recall for each class individually and either report them separately or compute overall metrics using methods like:\n",
        "- **Macro-averaging**: Compute precision and recall for each class independently and then take their unweighted mean.\n",
        "- **Micro-averaging**: Aggregate the true positives, false positives, and false negatives across all classes, then compute precision and recall from these aggregated values."
      ]
    },
    {
      "cell_type": "markdown",
      "metadata": {
        "id": "fqb_JOSTT_zI"
      },
      "source": [
        "##### **Precision & Recall for The Background Region**"
      ]
    },
    {
      "cell_type": "code",
      "execution_count": 19,
      "metadata": {
        "colab": {
          "base_uri": "https://localhost:8080/"
        },
        "id": "PphnWyecASnH",
        "outputId": "715f33a0-2695-4982-8878-eff8c3795097"
      },
      "outputs": [
        {
          "name": "stdout",
          "output_type": "stream",
          "text": [
            "Precision for the Background Region (Macro-averaging): 0.9987\n",
            "Recall for the Background Region (Macro-averaging): 0.9992\n"
          ]
        }
      ],
      "source": [
        "# Calculate precision and recall for the bg class\n",
        "bg_precision = precision_score(y_true, y_pred, labels=[0], average='macro')\n",
        "bg_recall = recall_score(y_true, y_pred, labels=[0], average='macro')\n",
        "\n",
        "print(f\"Precision for the Background Region (Macro-averaging): {bg_precision:.4f}\")\n",
        "print(f\"Recall for the Background Region (Macro-averaging): {bg_recall:.4f}\")"
      ]
    },
    {
      "cell_type": "markdown",
      "metadata": {
        "id": "LhJlVpIMUQ-H"
      },
      "source": [
        "##### **Precision & Recall for The Edema Region**"
      ]
    },
    {
      "cell_type": "code",
      "execution_count": 20,
      "metadata": {
        "colab": {
          "base_uri": "https://localhost:8080/"
        },
        "id": "KUrI62m-1U-7",
        "outputId": "72d68da1-db29-47fd-ca5a-36f6e764b142"
      },
      "outputs": [
        {
          "name": "stdout",
          "output_type": "stream",
          "text": [
            "Precision for the Edema Region (Macro-averaging): 0.7487\n",
            "Recall for the Edema Region (Macro-averaging): 0.8357\n"
          ]
        }
      ],
      "source": [
        "# Calculate precision and recall for the edema class\n",
        "edema_precision = precision_score(y_true, y_pred, labels=[1], average='macro')\n",
        "edema_recall = recall_score(y_true, y_pred, labels=[1], average='macro')\n",
        "\n",
        "print(f\"Precision for the Edema Region (Macro-averaging): {edema_precision:.4f}\")\n",
        "print(f\"Recall for the Edema Region (Macro-averaging): {edema_recall:.4f}\")"
      ]
    },
    {
      "cell_type": "markdown",
      "metadata": {
        "id": "4xNaWPvgUSe5"
      },
      "source": [
        "##### **Precision & Recall for The Necrosis Region**"
      ]
    },
    {
      "cell_type": "code",
      "execution_count": 21,
      "metadata": {
        "colab": {
          "base_uri": "https://localhost:8080/"
        },
        "id": "UyzbRxyBFkqO",
        "outputId": "d0a17752-67bd-4b45-f178-c36a537e4305"
      },
      "outputs": [
        {
          "name": "stdout",
          "output_type": "stream",
          "text": [
            "Precision for the Necrosis Region (Macro-averaging): 0.9144\n",
            "Recall for the Necrosis Region (Macro-averaging): 0.8120\n"
          ]
        }
      ],
      "source": [
        "# Calculate precision and recall for the necrosis class\n",
        "necrosis_precision = precision_score(y_true, y_pred, labels=[2], average='macro')\n",
        "necrosis_recall = recall_score(y_true, y_pred, labels=[2], average='macro')\n",
        "\n",
        "print(f\"Precision for the Necrosis Region (Macro-averaging): {necrosis_precision:.4f}\")\n",
        "print(f\"Recall for the Necrosis Region (Macro-averaging): {necrosis_recall:.4f}\")"
      ]
    },
    {
      "cell_type": "markdown",
      "metadata": {
        "id": "9emOX_1jUTrj"
      },
      "source": [
        "##### **Precision & Recall for Enhancing Tumor Region**"
      ]
    },
    {
      "cell_type": "code",
      "execution_count": 22,
      "metadata": {
        "colab": {
          "base_uri": "https://localhost:8080/"
        },
        "id": "kAELn4OFFl7G",
        "outputId": "d138d160-ef75-44b6-acac-5f0d1e180b66"
      },
      "outputs": [
        {
          "name": "stdout",
          "output_type": "stream",
          "text": [
            "Precision for the Enhancing Tumor Region (Macro-averaging): 0.9639\n",
            "Recall for the Enhancing Tumor Region (Macro-averaging): 0.7199\n"
          ]
        }
      ],
      "source": [
        "# Calculate precision and recall for the enhancing tumor class\n",
        "enhancing_tumor_precision = precision_score(y_true, y_pred, labels=[3], average='macro')\n",
        "enhancing_tumor_recall = recall_score(y_true, y_pred, labels=[3], average='macro')\n",
        "\n",
        "print(f\"Precision for the Enhancing Tumor Region (Macro-averaging): {enhancing_tumor_precision:.4f}\")\n",
        "print(f\"Recall for the Enhancing Tumor Region (Macro-averaging): {enhancing_tumor_recall:.4f}\")"
      ]
    },
    {
      "cell_type": "markdown",
      "metadata": {
        "id": "0ouEqeHE9tup"
      },
      "source": [
        "## **Conclusion**\n",
        "\n",
        "In this notebook, we implemented brain tumor segmentation using K-Means clustering on MRI scans, focusing on segmenting the tumor into its subregions: **edema**, **enhancing tumor**, and **necrosis**.\n",
        "\n",
        "The segmentation results were evaluated using key metrics such as the **Dice coefficient**, **confusion matrix**, **precision**, and **recall**, providing both qualitative and quantitative insights into the effectiveness of our approach. We found that the model achieved good results, as evident in the high Dice coefficient, precision and recall, and confusion matrix analysis.\n",
        "\n",
        "Our workflow establishes a robust pipeline for brain tumor segmentation, forming a foundation for further refinement and clinical applications.\n",
        "\n",
        "The next logical step after segmenting the tumor into its subregions is to perform **quantitative analysis** of these regions. This could involve:\n",
        "1. **Volume estimation** of each tumor subregion to monitor progression or treatment response.\n",
        "2. **Feature extraction** for radiomics, aiming to classify different tumor types or predict patient outcomes.\n",
        "3. **Integration of advanced machine learning techniques**, such as deep learning, for automated and more precise segmentation.\n",
        "\n",
        "Expanding this approach with more sophisticated models could further enhance the segmentation accuracy and its utility in clinical applications."
      ]
    }
  ],
  "metadata": {
    "colab": {
      "provenance": []
    },
    "kernelspec": {
      "display_name": "Python 3",
      "name": "python3"
    },
    "language_info": {
      "name": "python"
    },
    "widgets": {
      "application/vnd.jupyter.widget-state+json": {
        "01edf1972e6a4bab9a01119657d25dca": {
          "model_module": "@jupyter-widgets/output",
          "model_module_version": "1.0.0",
          "model_name": "OutputModel",
          "state": {
            "_dom_classes": [],
            "_model_module": "@jupyter-widgets/output",
            "_model_module_version": "1.0.0",
            "_model_name": "OutputModel",
            "_view_count": null,
            "_view_module": "@jupyter-widgets/output",
            "_view_module_version": "1.0.0",
            "_view_name": "OutputView",
            "layout": "IPY_MODEL_c0f96b494da847b0890beea8d9c95ff9",
            "msg_id": "",
            "outputs": [
              {
                "data": {
                  "image/png": "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\n",
                  "text/plain": "<Figure size 1200x600 with 2 Axes>"
                },
                "metadata": {},
                "output_type": "display_data"
              }
            ]
          }
        },
        "08c555a11fa04296b5db8bc6c4607bbc": {
          "model_module": "@jupyter-widgets/base",
          "model_module_version": "1.2.0",
          "model_name": "LayoutModel",
          "state": {
            "_model_module": "@jupyter-widgets/base",
            "_model_module_version": "1.2.0",
            "_model_name": "LayoutModel",
            "_view_count": null,
            "_view_module": "@jupyter-widgets/base",
            "_view_module_version": "1.2.0",
            "_view_name": "LayoutView",
            "align_content": null,
            "align_items": null,
            "align_self": null,
            "border": null,
            "bottom": null,
            "display": null,
            "flex": null,
            "flex_flow": null,
            "grid_area": null,
            "grid_auto_columns": null,
            "grid_auto_flow": null,
            "grid_auto_rows": null,
            "grid_column": null,
            "grid_gap": null,
            "grid_row": null,
            "grid_template_areas": null,
            "grid_template_columns": null,
            "grid_template_rows": null,
            "height": null,
            "justify_content": null,
            "justify_items": null,
            "left": null,
            "margin": null,
            "max_height": null,
            "max_width": null,
            "min_height": null,
            "min_width": null,
            "object_fit": null,
            "object_position": null,
            "order": null,
            "overflow": null,
            "overflow_x": null,
            "overflow_y": null,
            "padding": null,
            "right": null,
            "top": null,
            "visibility": null,
            "width": null
          }
        },
        "0bbedc21c44c496a9348fdab4a57d9bc": {
          "model_module": "@jupyter-widgets/controls",
          "model_module_version": "1.5.0",
          "model_name": "VBoxModel",
          "state": {
            "_dom_classes": [
              "widget-interact"
            ],
            "_model_module": "@jupyter-widgets/controls",
            "_model_module_version": "1.5.0",
            "_model_name": "VBoxModel",
            "_view_count": null,
            "_view_module": "@jupyter-widgets/controls",
            "_view_module_version": "1.5.0",
            "_view_name": "VBoxView",
            "box_style": "",
            "children": [
              "IPY_MODEL_d994bacb226c4fcfb6f070ea45716c79",
              "IPY_MODEL_bf24c0ce680d4111944975d1fa8a539c",
              "IPY_MODEL_01edf1972e6a4bab9a01119657d25dca"
            ],
            "layout": "IPY_MODEL_e41ad41b7b314a35b3b99966305db028"
          }
        },
        "214980118eb746a4a38b33fd2ffc2a5f": {
          "model_module": "@jupyter-widgets/controls",
          "model_module_version": "1.5.0",
          "model_name": "IntSliderModel",
          "state": {
            "_dom_classes": [],
            "_model_module": "@jupyter-widgets/controls",
            "_model_module_version": "1.5.0",
            "_model_name": "IntSliderModel",
            "_view_count": null,
            "_view_module": "@jupyter-widgets/controls",
            "_view_module_version": "1.5.0",
            "_view_name": "IntSliderView",
            "continuous_update": true,
            "description": "layer",
            "description_tooltip": null,
            "disabled": false,
            "layout": "IPY_MODEL_edd3c91f356e421aabd61c7985005706",
            "max": 154,
            "min": 0,
            "orientation": "horizontal",
            "readout": true,
            "readout_format": "d",
            "step": 1,
            "style": "IPY_MODEL_863ede60208b46368a8970dbd5ab409d",
            "value": 77
          }
        },
        "26d4e8f7c7334c51957896c1ae8281bb": {
          "model_module": "@jupyter-widgets/base",
          "model_module_version": "1.2.0",
          "model_name": "LayoutModel",
          "state": {
            "_model_module": "@jupyter-widgets/base",
            "_model_module_version": "1.2.0",
            "_model_name": "LayoutModel",
            "_view_count": null,
            "_view_module": "@jupyter-widgets/base",
            "_view_module_version": "1.2.0",
            "_view_name": "LayoutView",
            "align_content": null,
            "align_items": null,
            "align_self": null,
            "border": null,
            "bottom": null,
            "display": null,
            "flex": null,
            "flex_flow": null,
            "grid_area": null,
            "grid_auto_columns": null,
            "grid_auto_flow": null,
            "grid_auto_rows": null,
            "grid_column": null,
            "grid_gap": null,
            "grid_row": null,
            "grid_template_areas": null,
            "grid_template_columns": null,
            "grid_template_rows": null,
            "height": null,
            "justify_content": null,
            "justify_items": null,
            "left": null,
            "margin": null,
            "max_height": null,
            "max_width": null,
            "min_height": null,
            "min_width": null,
            "object_fit": null,
            "object_position": null,
            "order": null,
            "overflow": null,
            "overflow_x": null,
            "overflow_y": null,
            "padding": null,
            "right": null,
            "top": null,
            "visibility": null,
            "width": null
          }
        },
        "37fd375eff244e4f8d272e0884032c45": {
          "model_module": "@jupyter-widgets/controls",
          "model_module_version": "1.5.0",
          "model_name": "TextModel",
          "state": {
            "_dom_classes": [],
            "_model_module": "@jupyter-widgets/controls",
            "_model_module_version": "1.5.0",
            "_model_name": "TextModel",
            "_view_count": null,
            "_view_module": "@jupyter-widgets/controls",
            "_view_module_version": "1.5.0",
            "_view_name": "TextView",
            "continuous_update": true,
            "description": "plane",
            "description_tooltip": null,
            "disabled": false,
            "layout": "IPY_MODEL_c15b4513c83e4985aef125900447cdc0",
            "placeholder": "​",
            "style": "IPY_MODEL_99d99f78238e4d76b7cf3c63af0aa676",
            "value": "axial"
          }
        },
        "3bacc2a9390e4e218a987ba81263fe99": {
          "model_module": "@jupyter-widgets/controls",
          "model_module_version": "1.5.0",
          "model_name": "TextModel",
          "state": {
            "_dom_classes": [],
            "_model_module": "@jupyter-widgets/controls",
            "_model_module_version": "1.5.0",
            "_model_name": "TextModel",
            "_view_count": null,
            "_view_module": "@jupyter-widgets/controls",
            "_view_module_version": "1.5.0",
            "_view_name": "TextView",
            "continuous_update": true,
            "description": "plane",
            "description_tooltip": null,
            "disabled": false,
            "layout": "IPY_MODEL_6b2029f68aff4f33a3696be4f6d8215a",
            "placeholder": "​",
            "style": "IPY_MODEL_5c67892d22574faf8d7b9b27cdb6bd45",
            "value": "axial"
          }
        },
        "4fc5f19195d44bdfb15b597b5fbfe5b2": {
          "model_module": "@jupyter-widgets/base",
          "model_module_version": "1.2.0",
          "model_name": "LayoutModel",
          "state": {
            "_model_module": "@jupyter-widgets/base",
            "_model_module_version": "1.2.0",
            "_model_name": "LayoutModel",
            "_view_count": null,
            "_view_module": "@jupyter-widgets/base",
            "_view_module_version": "1.2.0",
            "_view_name": "LayoutView",
            "align_content": null,
            "align_items": null,
            "align_self": null,
            "border": null,
            "bottom": null,
            "display": null,
            "flex": null,
            "flex_flow": null,
            "grid_area": null,
            "grid_auto_columns": null,
            "grid_auto_flow": null,
            "grid_auto_rows": null,
            "grid_column": null,
            "grid_gap": null,
            "grid_row": null,
            "grid_template_areas": null,
            "grid_template_columns": null,
            "grid_template_rows": null,
            "height": null,
            "justify_content": null,
            "justify_items": null,
            "left": null,
            "margin": null,
            "max_height": null,
            "max_width": null,
            "min_height": null,
            "min_width": null,
            "object_fit": null,
            "object_position": null,
            "order": null,
            "overflow": null,
            "overflow_x": null,
            "overflow_y": null,
            "padding": null,
            "right": null,
            "top": null,
            "visibility": null,
            "width": null
          }
        },
        "51635cd5ef984c1fb2456259613cc6c6": {
          "model_module": "@jupyter-widgets/controls",
          "model_module_version": "1.5.0",
          "model_name": "SliderStyleModel",
          "state": {
            "_model_module": "@jupyter-widgets/controls",
            "_model_module_version": "1.5.0",
            "_model_name": "SliderStyleModel",
            "_view_count": null,
            "_view_module": "@jupyter-widgets/base",
            "_view_module_version": "1.2.0",
            "_view_name": "StyleView",
            "description_width": "",
            "handle_color": null
          }
        },
        "5c67892d22574faf8d7b9b27cdb6bd45": {
          "model_module": "@jupyter-widgets/controls",
          "model_module_version": "1.5.0",
          "model_name": "DescriptionStyleModel",
          "state": {
            "_model_module": "@jupyter-widgets/controls",
            "_model_module_version": "1.5.0",
            "_model_name": "DescriptionStyleModel",
            "_view_count": null,
            "_view_module": "@jupyter-widgets/base",
            "_view_module_version": "1.2.0",
            "_view_name": "StyleView",
            "description_width": ""
          }
        },
        "6b2029f68aff4f33a3696be4f6d8215a": {
          "model_module": "@jupyter-widgets/base",
          "model_module_version": "1.2.0",
          "model_name": "LayoutModel",
          "state": {
            "_model_module": "@jupyter-widgets/base",
            "_model_module_version": "1.2.0",
            "_model_name": "LayoutModel",
            "_view_count": null,
            "_view_module": "@jupyter-widgets/base",
            "_view_module_version": "1.2.0",
            "_view_name": "LayoutView",
            "align_content": null,
            "align_items": null,
            "align_self": null,
            "border": null,
            "bottom": null,
            "display": null,
            "flex": null,
            "flex_flow": null,
            "grid_area": null,
            "grid_auto_columns": null,
            "grid_auto_flow": null,
            "grid_auto_rows": null,
            "grid_column": null,
            "grid_gap": null,
            "grid_row": null,
            "grid_template_areas": null,
            "grid_template_columns": null,
            "grid_template_rows": null,
            "height": null,
            "justify_content": null,
            "justify_items": null,
            "left": null,
            "margin": null,
            "max_height": null,
            "max_width": null,
            "min_height": null,
            "min_width": null,
            "object_fit": null,
            "object_position": null,
            "order": null,
            "overflow": null,
            "overflow_x": null,
            "overflow_y": null,
            "padding": null,
            "right": null,
            "top": null,
            "visibility": null,
            "width": null
          }
        },
        "6ba89163ef0642fe9eb9195ab0629c9b": {
          "model_module": "@jupyter-widgets/controls",
          "model_module_version": "1.5.0",
          "model_name": "IntSliderModel",
          "state": {
            "_dom_classes": [],
            "_model_module": "@jupyter-widgets/controls",
            "_model_module_version": "1.5.0",
            "_model_name": "IntSliderModel",
            "_view_count": null,
            "_view_module": "@jupyter-widgets/controls",
            "_view_module_version": "1.5.0",
            "_view_name": "IntSliderView",
            "continuous_update": true,
            "description": "layer",
            "description_tooltip": null,
            "disabled": false,
            "layout": "IPY_MODEL_93d9410b458049c0978f7301ee567381",
            "max": 154,
            "min": 0,
            "orientation": "horizontal",
            "readout": true,
            "readout_format": "d",
            "step": 1,
            "style": "IPY_MODEL_c3055afc537f4bffa1f57fba592a9967",
            "value": 77
          }
        },
        "6ea59aa8b53044298d6290951ba987d3": {
          "model_module": "@jupyter-widgets/controls",
          "model_module_version": "1.5.0",
          "model_name": "SliderStyleModel",
          "state": {
            "_model_module": "@jupyter-widgets/controls",
            "_model_module_version": "1.5.0",
            "_model_name": "SliderStyleModel",
            "_view_count": null,
            "_view_module": "@jupyter-widgets/base",
            "_view_module_version": "1.2.0",
            "_view_name": "StyleView",
            "description_width": "",
            "handle_color": null
          }
        },
        "72e8fb3a67ed45109d3c3997257641fd": {
          "model_module": "@jupyter-widgets/base",
          "model_module_version": "1.2.0",
          "model_name": "LayoutModel",
          "state": {
            "_model_module": "@jupyter-widgets/base",
            "_model_module_version": "1.2.0",
            "_model_name": "LayoutModel",
            "_view_count": null,
            "_view_module": "@jupyter-widgets/base",
            "_view_module_version": "1.2.0",
            "_view_name": "LayoutView",
            "align_content": null,
            "align_items": null,
            "align_self": null,
            "border": null,
            "bottom": null,
            "display": null,
            "flex": null,
            "flex_flow": null,
            "grid_area": null,
            "grid_auto_columns": null,
            "grid_auto_flow": null,
            "grid_auto_rows": null,
            "grid_column": null,
            "grid_gap": null,
            "grid_row": null,
            "grid_template_areas": null,
            "grid_template_columns": null,
            "grid_template_rows": null,
            "height": null,
            "justify_content": null,
            "justify_items": null,
            "left": null,
            "margin": null,
            "max_height": null,
            "max_width": null,
            "min_height": null,
            "min_width": null,
            "object_fit": null,
            "object_position": null,
            "order": null,
            "overflow": null,
            "overflow_x": null,
            "overflow_y": null,
            "padding": null,
            "right": null,
            "top": null,
            "visibility": null,
            "width": null
          }
        },
        "7cfe560c496e479fb04c53dcfba8e4b8": {
          "model_module": "@jupyter-widgets/base",
          "model_module_version": "1.2.0",
          "model_name": "LayoutModel",
          "state": {
            "_model_module": "@jupyter-widgets/base",
            "_model_module_version": "1.2.0",
            "_model_name": "LayoutModel",
            "_view_count": null,
            "_view_module": "@jupyter-widgets/base",
            "_view_module_version": "1.2.0",
            "_view_name": "LayoutView",
            "align_content": null,
            "align_items": null,
            "align_self": null,
            "border": null,
            "bottom": null,
            "display": null,
            "flex": null,
            "flex_flow": null,
            "grid_area": null,
            "grid_auto_columns": null,
            "grid_auto_flow": null,
            "grid_auto_rows": null,
            "grid_column": null,
            "grid_gap": null,
            "grid_row": null,
            "grid_template_areas": null,
            "grid_template_columns": null,
            "grid_template_rows": null,
            "height": null,
            "justify_content": null,
            "justify_items": null,
            "left": null,
            "margin": null,
            "max_height": null,
            "max_width": null,
            "min_height": null,
            "min_width": null,
            "object_fit": null,
            "object_position": null,
            "order": null,
            "overflow": null,
            "overflow_x": null,
            "overflow_y": null,
            "padding": null,
            "right": null,
            "top": null,
            "visibility": null,
            "width": null
          }
        },
        "7d0a6f31905f4431b4636d7d5134d711": {
          "model_module": "@jupyter-widgets/controls",
          "model_module_version": "1.5.0",
          "model_name": "SliderStyleModel",
          "state": {
            "_model_module": "@jupyter-widgets/controls",
            "_model_module_version": "1.5.0",
            "_model_name": "SliderStyleModel",
            "_view_count": null,
            "_view_module": "@jupyter-widgets/base",
            "_view_module_version": "1.2.0",
            "_view_name": "StyleView",
            "description_width": "",
            "handle_color": null
          }
        },
        "841e8c75e02a49848e9d22028f66f529": {
          "model_module": "@jupyter-widgets/controls",
          "model_module_version": "1.5.0",
          "model_name": "TextModel",
          "state": {
            "_dom_classes": [],
            "_model_module": "@jupyter-widgets/controls",
            "_model_module_version": "1.5.0",
            "_model_name": "TextModel",
            "_view_count": null,
            "_view_module": "@jupyter-widgets/controls",
            "_view_module_version": "1.5.0",
            "_view_name": "TextView",
            "continuous_update": true,
            "description": "plane",
            "description_tooltip": null,
            "disabled": false,
            "layout": "IPY_MODEL_08c555a11fa04296b5db8bc6c4607bbc",
            "placeholder": "​",
            "style": "IPY_MODEL_ad3ad4c12e314fb0b52177cc9c582109",
            "value": "axial"
          }
        },
        "848feb860c724fa3802f9cfc602307d6": {
          "model_module": "@jupyter-widgets/base",
          "model_module_version": "1.2.0",
          "model_name": "LayoutModel",
          "state": {
            "_model_module": "@jupyter-widgets/base",
            "_model_module_version": "1.2.0",
            "_model_name": "LayoutModel",
            "_view_count": null,
            "_view_module": "@jupyter-widgets/base",
            "_view_module_version": "1.2.0",
            "_view_name": "LayoutView",
            "align_content": null,
            "align_items": null,
            "align_self": null,
            "border": null,
            "bottom": null,
            "display": null,
            "flex": null,
            "flex_flow": null,
            "grid_area": null,
            "grid_auto_columns": null,
            "grid_auto_flow": null,
            "grid_auto_rows": null,
            "grid_column": null,
            "grid_gap": null,
            "grid_row": null,
            "grid_template_areas": null,
            "grid_template_columns": null,
            "grid_template_rows": null,
            "height": null,
            "justify_content": null,
            "justify_items": null,
            "left": null,
            "margin": null,
            "max_height": null,
            "max_width": null,
            "min_height": null,
            "min_width": null,
            "object_fit": null,
            "object_position": null,
            "order": null,
            "overflow": null,
            "overflow_x": null,
            "overflow_y": null,
            "padding": null,
            "right": null,
            "top": null,
            "visibility": null,
            "width": null
          }
        },
        "85d8a327d2bd4558b85dd6397fee84e2": {
          "model_module": "@jupyter-widgets/controls",
          "model_module_version": "1.5.0",
          "model_name": "VBoxModel",
          "state": {
            "_dom_classes": [
              "widget-interact"
            ],
            "_model_module": "@jupyter-widgets/controls",
            "_model_module_version": "1.5.0",
            "_model_name": "VBoxModel",
            "_view_count": null,
            "_view_module": "@jupyter-widgets/controls",
            "_view_module_version": "1.5.0",
            "_view_name": "VBoxView",
            "box_style": "",
            "children": [
              "IPY_MODEL_6ba89163ef0642fe9eb9195ab0629c9b",
              "IPY_MODEL_841e8c75e02a49848e9d22028f66f529",
              "IPY_MODEL_e26e2521290e47b5a44909989c716b63"
            ],
            "layout": "IPY_MODEL_848feb860c724fa3802f9cfc602307d6"
          }
        },
        "863ede60208b46368a8970dbd5ab409d": {
          "model_module": "@jupyter-widgets/controls",
          "model_module_version": "1.5.0",
          "model_name": "SliderStyleModel",
          "state": {
            "_model_module": "@jupyter-widgets/controls",
            "_model_module_version": "1.5.0",
            "_model_name": "SliderStyleModel",
            "_view_count": null,
            "_view_module": "@jupyter-widgets/base",
            "_view_module_version": "1.2.0",
            "_view_name": "StyleView",
            "description_width": "",
            "handle_color": null
          }
        },
        "93d9410b458049c0978f7301ee567381": {
          "model_module": "@jupyter-widgets/base",
          "model_module_version": "1.2.0",
          "model_name": "LayoutModel",
          "state": {
            "_model_module": "@jupyter-widgets/base",
            "_model_module_version": "1.2.0",
            "_model_name": "LayoutModel",
            "_view_count": null,
            "_view_module": "@jupyter-widgets/base",
            "_view_module_version": "1.2.0",
            "_view_name": "LayoutView",
            "align_content": null,
            "align_items": null,
            "align_self": null,
            "border": null,
            "bottom": null,
            "display": null,
            "flex": null,
            "flex_flow": null,
            "grid_area": null,
            "grid_auto_columns": null,
            "grid_auto_flow": null,
            "grid_auto_rows": null,
            "grid_column": null,
            "grid_gap": null,
            "grid_row": null,
            "grid_template_areas": null,
            "grid_template_columns": null,
            "grid_template_rows": null,
            "height": null,
            "justify_content": null,
            "justify_items": null,
            "left": null,
            "margin": null,
            "max_height": null,
            "max_width": null,
            "min_height": null,
            "min_width": null,
            "object_fit": null,
            "object_position": null,
            "order": null,
            "overflow": null,
            "overflow_x": null,
            "overflow_y": null,
            "padding": null,
            "right": null,
            "top": null,
            "visibility": null,
            "width": null
          }
        },
        "9438def57cf24d428c078e4da141fa23": {
          "model_module": "@jupyter-widgets/controls",
          "model_module_version": "1.5.0",
          "model_name": "IntSliderModel",
          "state": {
            "_dom_classes": [],
            "_model_module": "@jupyter-widgets/controls",
            "_model_module_version": "1.5.0",
            "_model_name": "IntSliderModel",
            "_view_count": null,
            "_view_module": "@jupyter-widgets/controls",
            "_view_module_version": "1.5.0",
            "_view_name": "IntSliderView",
            "continuous_update": true,
            "description": "MRI_Seq",
            "description_tooltip": null,
            "disabled": false,
            "layout": "IPY_MODEL_e2204d0ee6b84515bf089706db8217f5",
            "max": 3,
            "min": 0,
            "orientation": "horizontal",
            "readout": true,
            "readout_format": "d",
            "step": 1,
            "style": "IPY_MODEL_6ea59aa8b53044298d6290951ba987d3",
            "value": 1
          }
        },
        "99d99f78238e4d76b7cf3c63af0aa676": {
          "model_module": "@jupyter-widgets/controls",
          "model_module_version": "1.5.0",
          "model_name": "DescriptionStyleModel",
          "state": {
            "_model_module": "@jupyter-widgets/controls",
            "_model_module_version": "1.5.0",
            "_model_name": "DescriptionStyleModel",
            "_view_count": null,
            "_view_module": "@jupyter-widgets/base",
            "_view_module_version": "1.2.0",
            "_view_name": "StyleView",
            "description_width": ""
          }
        },
        "a447c3d7859e4c38b52cc01e7adb3f0e": {
          "model_module": "@jupyter-widgets/output",
          "model_module_version": "1.0.0",
          "model_name": "OutputModel",
          "state": {
            "_dom_classes": [],
            "_model_module": "@jupyter-widgets/output",
            "_model_module_version": "1.0.0",
            "_model_name": "OutputModel",
            "_view_count": null,
            "_view_module": "@jupyter-widgets/output",
            "_view_module_version": "1.0.0",
            "_view_name": "OutputView",
            "layout": "IPY_MODEL_f4af483f9c214736bfa6789574468fd0",
            "msg_id": "",
            "outputs": [
              {
                "data": {
                  "image/png": "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\n",
                  "text/plain": "<Figure size 1000x500 with 1 Axes>"
                },
                "metadata": {},
                "output_type": "display_data"
              }
            ]
          }
        },
        "a80286ac11bd4ee583e6d3ca7e37521a": {
          "model_module": "@jupyter-widgets/controls",
          "model_module_version": "1.5.0",
          "model_name": "IntSliderModel",
          "state": {
            "_dom_classes": [],
            "_model_module": "@jupyter-widgets/controls",
            "_model_module_version": "1.5.0",
            "_model_name": "IntSliderModel",
            "_view_count": null,
            "_view_module": "@jupyter-widgets/controls",
            "_view_module_version": "1.5.0",
            "_view_name": "IntSliderView",
            "continuous_update": true,
            "description": "layer",
            "description_tooltip": null,
            "disabled": false,
            "layout": "IPY_MODEL_c33000813d334f99ab1d350a62c89405",
            "max": 154,
            "min": 0,
            "orientation": "horizontal",
            "readout": true,
            "readout_format": "d",
            "step": 1,
            "style": "IPY_MODEL_7d0a6f31905f4431b4636d7d5134d711",
            "value": 77
          }
        },
        "ad3ad4c12e314fb0b52177cc9c582109": {
          "model_module": "@jupyter-widgets/controls",
          "model_module_version": "1.5.0",
          "model_name": "DescriptionStyleModel",
          "state": {
            "_model_module": "@jupyter-widgets/controls",
            "_model_module_version": "1.5.0",
            "_model_name": "DescriptionStyleModel",
            "_view_count": null,
            "_view_module": "@jupyter-widgets/base",
            "_view_module_version": "1.2.0",
            "_view_name": "StyleView",
            "description_width": ""
          }
        },
        "bf24c0ce680d4111944975d1fa8a539c": {
          "model_module": "@jupyter-widgets/controls",
          "model_module_version": "1.5.0",
          "model_name": "IntSliderModel",
          "state": {
            "_dom_classes": [],
            "_model_module": "@jupyter-widgets/controls",
            "_model_module_version": "1.5.0",
            "_model_name": "IntSliderModel",
            "_view_count": null,
            "_view_module": "@jupyter-widgets/controls",
            "_view_module_version": "1.5.0",
            "_view_name": "IntSliderView",
            "continuous_update": true,
            "description": "MRI_Seq",
            "description_tooltip": null,
            "disabled": false,
            "layout": "IPY_MODEL_d0947f497412475fa1c7b7960475d0f6",
            "max": 3,
            "min": 0,
            "orientation": "horizontal",
            "readout": true,
            "readout_format": "d",
            "step": 1,
            "style": "IPY_MODEL_51635cd5ef984c1fb2456259613cc6c6",
            "value": 1
          }
        },
        "c0f96b494da847b0890beea8d9c95ff9": {
          "model_module": "@jupyter-widgets/base",
          "model_module_version": "1.2.0",
          "model_name": "LayoutModel",
          "state": {
            "_model_module": "@jupyter-widgets/base",
            "_model_module_version": "1.2.0",
            "_model_name": "LayoutModel",
            "_view_count": null,
            "_view_module": "@jupyter-widgets/base",
            "_view_module_version": "1.2.0",
            "_view_name": "LayoutView",
            "align_content": null,
            "align_items": null,
            "align_self": null,
            "border": null,
            "bottom": null,
            "display": null,
            "flex": null,
            "flex_flow": null,
            "grid_area": null,
            "grid_auto_columns": null,
            "grid_auto_flow": null,
            "grid_auto_rows": null,
            "grid_column": null,
            "grid_gap": null,
            "grid_row": null,
            "grid_template_areas": null,
            "grid_template_columns": null,
            "grid_template_rows": null,
            "height": null,
            "justify_content": null,
            "justify_items": null,
            "left": null,
            "margin": null,
            "max_height": null,
            "max_width": null,
            "min_height": null,
            "min_width": null,
            "object_fit": null,
            "object_position": null,
            "order": null,
            "overflow": null,
            "overflow_x": null,
            "overflow_y": null,
            "padding": null,
            "right": null,
            "top": null,
            "visibility": null,
            "width": null
          }
        },
        "c15b4513c83e4985aef125900447cdc0": {
          "model_module": "@jupyter-widgets/base",
          "model_module_version": "1.2.0",
          "model_name": "LayoutModel",
          "state": {
            "_model_module": "@jupyter-widgets/base",
            "_model_module_version": "1.2.0",
            "_model_name": "LayoutModel",
            "_view_count": null,
            "_view_module": "@jupyter-widgets/base",
            "_view_module_version": "1.2.0",
            "_view_name": "LayoutView",
            "align_content": null,
            "align_items": null,
            "align_self": null,
            "border": null,
            "bottom": null,
            "display": null,
            "flex": null,
            "flex_flow": null,
            "grid_area": null,
            "grid_auto_columns": null,
            "grid_auto_flow": null,
            "grid_auto_rows": null,
            "grid_column": null,
            "grid_gap": null,
            "grid_row": null,
            "grid_template_areas": null,
            "grid_template_columns": null,
            "grid_template_rows": null,
            "height": null,
            "justify_content": null,
            "justify_items": null,
            "left": null,
            "margin": null,
            "max_height": null,
            "max_width": null,
            "min_height": null,
            "min_width": null,
            "object_fit": null,
            "object_position": null,
            "order": null,
            "overflow": null,
            "overflow_x": null,
            "overflow_y": null,
            "padding": null,
            "right": null,
            "top": null,
            "visibility": null,
            "width": null
          }
        },
        "c3055afc537f4bffa1f57fba592a9967": {
          "model_module": "@jupyter-widgets/controls",
          "model_module_version": "1.5.0",
          "model_name": "SliderStyleModel",
          "state": {
            "_model_module": "@jupyter-widgets/controls",
            "_model_module_version": "1.5.0",
            "_model_name": "SliderStyleModel",
            "_view_count": null,
            "_view_module": "@jupyter-widgets/base",
            "_view_module_version": "1.2.0",
            "_view_name": "StyleView",
            "description_width": "",
            "handle_color": null
          }
        },
        "c33000813d334f99ab1d350a62c89405": {
          "model_module": "@jupyter-widgets/base",
          "model_module_version": "1.2.0",
          "model_name": "LayoutModel",
          "state": {
            "_model_module": "@jupyter-widgets/base",
            "_model_module_version": "1.2.0",
            "_model_name": "LayoutModel",
            "_view_count": null,
            "_view_module": "@jupyter-widgets/base",
            "_view_module_version": "1.2.0",
            "_view_name": "LayoutView",
            "align_content": null,
            "align_items": null,
            "align_self": null,
            "border": null,
            "bottom": null,
            "display": null,
            "flex": null,
            "flex_flow": null,
            "grid_area": null,
            "grid_auto_columns": null,
            "grid_auto_flow": null,
            "grid_auto_rows": null,
            "grid_column": null,
            "grid_gap": null,
            "grid_row": null,
            "grid_template_areas": null,
            "grid_template_columns": null,
            "grid_template_rows": null,
            "height": null,
            "justify_content": null,
            "justify_items": null,
            "left": null,
            "margin": null,
            "max_height": null,
            "max_width": null,
            "min_height": null,
            "min_width": null,
            "object_fit": null,
            "object_position": null,
            "order": null,
            "overflow": null,
            "overflow_x": null,
            "overflow_y": null,
            "padding": null,
            "right": null,
            "top": null,
            "visibility": null,
            "width": null
          }
        },
        "c6615991c924437b8332d0466a6acb24": {
          "model_module": "@jupyter-widgets/output",
          "model_module_version": "1.0.0",
          "model_name": "OutputModel",
          "state": {
            "_dom_classes": [],
            "_model_module": "@jupyter-widgets/output",
            "_model_module_version": "1.0.0",
            "_model_name": "OutputModel",
            "_view_count": null,
            "_view_module": "@jupyter-widgets/output",
            "_view_module_version": "1.0.0",
            "_view_name": "OutputView",
            "layout": "IPY_MODEL_72e8fb3a67ed45109d3c3997257641fd",
            "msg_id": "",
            "outputs": [
              {
                "data": {
                  "image/png": "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\n",
                  "text/plain": "<Figure size 1000x500 with 1 Axes>"
                },
                "metadata": {},
                "output_type": "display_data"
              }
            ]
          }
        },
        "cb22f221f9f14453b96e6a47bc26c30f": {
          "model_module": "@jupyter-widgets/controls",
          "model_module_version": "1.5.0",
          "model_name": "SliderStyleModel",
          "state": {
            "_model_module": "@jupyter-widgets/controls",
            "_model_module_version": "1.5.0",
            "_model_name": "SliderStyleModel",
            "_view_count": null,
            "_view_module": "@jupyter-widgets/base",
            "_view_module_version": "1.2.0",
            "_view_name": "StyleView",
            "description_width": "",
            "handle_color": null
          }
        },
        "cd77281b393a4afbbbf86389ff4646fe": {
          "model_module": "@jupyter-widgets/controls",
          "model_module_version": "1.5.0",
          "model_name": "VBoxModel",
          "state": {
            "_dom_classes": [
              "widget-interact"
            ],
            "_model_module": "@jupyter-widgets/controls",
            "_model_module_version": "1.5.0",
            "_model_name": "VBoxModel",
            "_view_count": null,
            "_view_module": "@jupyter-widgets/controls",
            "_view_module_version": "1.5.0",
            "_view_name": "VBoxView",
            "box_style": "",
            "children": [
              "IPY_MODEL_214980118eb746a4a38b33fd2ffc2a5f",
              "IPY_MODEL_3bacc2a9390e4e218a987ba81263fe99",
              "IPY_MODEL_c6615991c924437b8332d0466a6acb24"
            ],
            "layout": "IPY_MODEL_26d4e8f7c7334c51957896c1ae8281bb"
          }
        },
        "ce1443f50b2341c1a2b62ad37ad0df87": {
          "model_module": "@jupyter-widgets/controls",
          "model_module_version": "1.5.0",
          "model_name": "VBoxModel",
          "state": {
            "_dom_classes": [
              "widget-interact"
            ],
            "_model_module": "@jupyter-widgets/controls",
            "_model_module_version": "1.5.0",
            "_model_name": "VBoxModel",
            "_view_count": null,
            "_view_module": "@jupyter-widgets/controls",
            "_view_module_version": "1.5.0",
            "_view_name": "VBoxView",
            "box_style": "",
            "children": [
              "IPY_MODEL_a80286ac11bd4ee583e6d3ca7e37521a",
              "IPY_MODEL_9438def57cf24d428c078e4da141fa23",
              "IPY_MODEL_37fd375eff244e4f8d272e0884032c45",
              "IPY_MODEL_a447c3d7859e4c38b52cc01e7adb3f0e"
            ],
            "layout": "IPY_MODEL_e47057b33e5545618aba74a08b6a55c2"
          }
        },
        "d0947f497412475fa1c7b7960475d0f6": {
          "model_module": "@jupyter-widgets/base",
          "model_module_version": "1.2.0",
          "model_name": "LayoutModel",
          "state": {
            "_model_module": "@jupyter-widgets/base",
            "_model_module_version": "1.2.0",
            "_model_name": "LayoutModel",
            "_view_count": null,
            "_view_module": "@jupyter-widgets/base",
            "_view_module_version": "1.2.0",
            "_view_name": "LayoutView",
            "align_content": null,
            "align_items": null,
            "align_self": null,
            "border": null,
            "bottom": null,
            "display": null,
            "flex": null,
            "flex_flow": null,
            "grid_area": null,
            "grid_auto_columns": null,
            "grid_auto_flow": null,
            "grid_auto_rows": null,
            "grid_column": null,
            "grid_gap": null,
            "grid_row": null,
            "grid_template_areas": null,
            "grid_template_columns": null,
            "grid_template_rows": null,
            "height": null,
            "justify_content": null,
            "justify_items": null,
            "left": null,
            "margin": null,
            "max_height": null,
            "max_width": null,
            "min_height": null,
            "min_width": null,
            "object_fit": null,
            "object_position": null,
            "order": null,
            "overflow": null,
            "overflow_x": null,
            "overflow_y": null,
            "padding": null,
            "right": null,
            "top": null,
            "visibility": null,
            "width": null
          }
        },
        "d994bacb226c4fcfb6f070ea45716c79": {
          "model_module": "@jupyter-widgets/controls",
          "model_module_version": "1.5.0",
          "model_name": "IntSliderModel",
          "state": {
            "_dom_classes": [],
            "_model_module": "@jupyter-widgets/controls",
            "_model_module_version": "1.5.0",
            "_model_name": "IntSliderModel",
            "_view_count": null,
            "_view_module": "@jupyter-widgets/controls",
            "_view_module_version": "1.5.0",
            "_view_name": "IntSliderView",
            "continuous_update": true,
            "description": "layer",
            "description_tooltip": null,
            "disabled": false,
            "layout": "IPY_MODEL_7cfe560c496e479fb04c53dcfba8e4b8",
            "max": 154,
            "min": 0,
            "orientation": "horizontal",
            "readout": true,
            "readout_format": "d",
            "step": 1,
            "style": "IPY_MODEL_cb22f221f9f14453b96e6a47bc26c30f",
            "value": 77
          }
        },
        "e2204d0ee6b84515bf089706db8217f5": {
          "model_module": "@jupyter-widgets/base",
          "model_module_version": "1.2.0",
          "model_name": "LayoutModel",
          "state": {
            "_model_module": "@jupyter-widgets/base",
            "_model_module_version": "1.2.0",
            "_model_name": "LayoutModel",
            "_view_count": null,
            "_view_module": "@jupyter-widgets/base",
            "_view_module_version": "1.2.0",
            "_view_name": "LayoutView",
            "align_content": null,
            "align_items": null,
            "align_self": null,
            "border": null,
            "bottom": null,
            "display": null,
            "flex": null,
            "flex_flow": null,
            "grid_area": null,
            "grid_auto_columns": null,
            "grid_auto_flow": null,
            "grid_auto_rows": null,
            "grid_column": null,
            "grid_gap": null,
            "grid_row": null,
            "grid_template_areas": null,
            "grid_template_columns": null,
            "grid_template_rows": null,
            "height": null,
            "justify_content": null,
            "justify_items": null,
            "left": null,
            "margin": null,
            "max_height": null,
            "max_width": null,
            "min_height": null,
            "min_width": null,
            "object_fit": null,
            "object_position": null,
            "order": null,
            "overflow": null,
            "overflow_x": null,
            "overflow_y": null,
            "padding": null,
            "right": null,
            "top": null,
            "visibility": null,
            "width": null
          }
        },
        "e26e2521290e47b5a44909989c716b63": {
          "model_module": "@jupyter-widgets/output",
          "model_module_version": "1.0.0",
          "model_name": "OutputModel",
          "state": {
            "_dom_classes": [],
            "_model_module": "@jupyter-widgets/output",
            "_model_module_version": "1.0.0",
            "_model_name": "OutputModel",
            "_view_count": null,
            "_view_module": "@jupyter-widgets/output",
            "_view_module_version": "1.0.0",
            "_view_name": "OutputView",
            "layout": "IPY_MODEL_4fc5f19195d44bdfb15b597b5fbfe5b2",
            "msg_id": "",
            "outputs": [
              {
                "data": {
                  "image/png": "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\n",
                  "text/plain": "<Figure size 1000x500 with 1 Axes>"
                },
                "metadata": {},
                "output_type": "display_data"
              }
            ]
          }
        },
        "e41ad41b7b314a35b3b99966305db028": {
          "model_module": "@jupyter-widgets/base",
          "model_module_version": "1.2.0",
          "model_name": "LayoutModel",
          "state": {
            "_model_module": "@jupyter-widgets/base",
            "_model_module_version": "1.2.0",
            "_model_name": "LayoutModel",
            "_view_count": null,
            "_view_module": "@jupyter-widgets/base",
            "_view_module_version": "1.2.0",
            "_view_name": "LayoutView",
            "align_content": null,
            "align_items": null,
            "align_self": null,
            "border": null,
            "bottom": null,
            "display": null,
            "flex": null,
            "flex_flow": null,
            "grid_area": null,
            "grid_auto_columns": null,
            "grid_auto_flow": null,
            "grid_auto_rows": null,
            "grid_column": null,
            "grid_gap": null,
            "grid_row": null,
            "grid_template_areas": null,
            "grid_template_columns": null,
            "grid_template_rows": null,
            "height": null,
            "justify_content": null,
            "justify_items": null,
            "left": null,
            "margin": null,
            "max_height": null,
            "max_width": null,
            "min_height": null,
            "min_width": null,
            "object_fit": null,
            "object_position": null,
            "order": null,
            "overflow": null,
            "overflow_x": null,
            "overflow_y": null,
            "padding": null,
            "right": null,
            "top": null,
            "visibility": null,
            "width": null
          }
        },
        "e47057b33e5545618aba74a08b6a55c2": {
          "model_module": "@jupyter-widgets/base",
          "model_module_version": "1.2.0",
          "model_name": "LayoutModel",
          "state": {
            "_model_module": "@jupyter-widgets/base",
            "_model_module_version": "1.2.0",
            "_model_name": "LayoutModel",
            "_view_count": null,
            "_view_module": "@jupyter-widgets/base",
            "_view_module_version": "1.2.0",
            "_view_name": "LayoutView",
            "align_content": null,
            "align_items": null,
            "align_self": null,
            "border": null,
            "bottom": null,
            "display": null,
            "flex": null,
            "flex_flow": null,
            "grid_area": null,
            "grid_auto_columns": null,
            "grid_auto_flow": null,
            "grid_auto_rows": null,
            "grid_column": null,
            "grid_gap": null,
            "grid_row": null,
            "grid_template_areas": null,
            "grid_template_columns": null,
            "grid_template_rows": null,
            "height": null,
            "justify_content": null,
            "justify_items": null,
            "left": null,
            "margin": null,
            "max_height": null,
            "max_width": null,
            "min_height": null,
            "min_width": null,
            "object_fit": null,
            "object_position": null,
            "order": null,
            "overflow": null,
            "overflow_x": null,
            "overflow_y": null,
            "padding": null,
            "right": null,
            "top": null,
            "visibility": null,
            "width": null
          }
        },
        "edd3c91f356e421aabd61c7985005706": {
          "model_module": "@jupyter-widgets/base",
          "model_module_version": "1.2.0",
          "model_name": "LayoutModel",
          "state": {
            "_model_module": "@jupyter-widgets/base",
            "_model_module_version": "1.2.0",
            "_model_name": "LayoutModel",
            "_view_count": null,
            "_view_module": "@jupyter-widgets/base",
            "_view_module_version": "1.2.0",
            "_view_name": "LayoutView",
            "align_content": null,
            "align_items": null,
            "align_self": null,
            "border": null,
            "bottom": null,
            "display": null,
            "flex": null,
            "flex_flow": null,
            "grid_area": null,
            "grid_auto_columns": null,
            "grid_auto_flow": null,
            "grid_auto_rows": null,
            "grid_column": null,
            "grid_gap": null,
            "grid_row": null,
            "grid_template_areas": null,
            "grid_template_columns": null,
            "grid_template_rows": null,
            "height": null,
            "justify_content": null,
            "justify_items": null,
            "left": null,
            "margin": null,
            "max_height": null,
            "max_width": null,
            "min_height": null,
            "min_width": null,
            "object_fit": null,
            "object_position": null,
            "order": null,
            "overflow": null,
            "overflow_x": null,
            "overflow_y": null,
            "padding": null,
            "right": null,
            "top": null,
            "visibility": null,
            "width": null
          }
        },
        "f4af483f9c214736bfa6789574468fd0": {
          "model_module": "@jupyter-widgets/base",
          "model_module_version": "1.2.0",
          "model_name": "LayoutModel",
          "state": {
            "_model_module": "@jupyter-widgets/base",
            "_model_module_version": "1.2.0",
            "_model_name": "LayoutModel",
            "_view_count": null,
            "_view_module": "@jupyter-widgets/base",
            "_view_module_version": "1.2.0",
            "_view_name": "LayoutView",
            "align_content": null,
            "align_items": null,
            "align_self": null,
            "border": null,
            "bottom": null,
            "display": null,
            "flex": null,
            "flex_flow": null,
            "grid_area": null,
            "grid_auto_columns": null,
            "grid_auto_flow": null,
            "grid_auto_rows": null,
            "grid_column": null,
            "grid_gap": null,
            "grid_row": null,
            "grid_template_areas": null,
            "grid_template_columns": null,
            "grid_template_rows": null,
            "height": null,
            "justify_content": null,
            "justify_items": null,
            "left": null,
            "margin": null,
            "max_height": null,
            "max_width": null,
            "min_height": null,
            "min_width": null,
            "object_fit": null,
            "object_position": null,
            "order": null,
            "overflow": null,
            "overflow_x": null,
            "overflow_y": null,
            "padding": null,
            "right": null,
            "top": null,
            "visibility": null,
            "width": null
          }
        }
      }
    }
  },
  "nbformat": 4,
  "nbformat_minor": 0
}
